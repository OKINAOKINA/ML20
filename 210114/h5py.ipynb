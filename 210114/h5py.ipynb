{
  "nbformat": 4,
  "nbformat_minor": 0,
  "metadata": {
    "colab": {
      "name": "h5py.ipynb",
      "provenance": [],
      "collapsed_sections": []
    },
    "kernelspec": {
      "name": "python3",
      "display_name": "Python 3"
    }
  },
  "cells": [
    {
      "cell_type": "code",
      "metadata": {
        "colab": {
          "base_uri": "https://localhost:8080/"
        },
        "id": "syLfyl9G-m2S",
        "outputId": "ab0aa32f-59cd-41dc-ff1b-ae6312d4fdb5"
      },
      "source": [
        "import h5py\r\n",
        "import numpy as np\r\n",
        "f = h5py.File(\"mytestfile.hdf5\", \"w\")\r\n",
        "dset = f.create_dataset(\"mydataset\", (100,), dtype='i')\r\n",
        "print(dset.name)\r\n",
        "print(f.name)\r\n",
        "\r\n",
        "f = h5py.File('mydataset.hdf5', 'a')\r\n",
        "grp = f.create_group(\"subgroup\")\r\n",
        "\r\n",
        "dset2 = grp.create_dataset(\"another_dataset\", (50,), dtype='f')\r\n",
        "print(dset2.name)\r\n",
        "\r\n",
        "dset3 = f.create_dataset('subgroup2/dataset_three', (10,), dtype='i')\r\n",
        "print(dset3.name)\r\n",
        "\r\n",
        "dataset_three = f['subgroup2/dataset_three']\r\n",
        "for name in f:\r\n",
        "  print(name)\r\n",
        "print(\"mydataset\" in f)\r\n",
        "print(\"somethingelse\" in f)\r\n",
        "print(\"subgroup/another_dataset\" in f)\r\n",
        "\r\n",
        "def printname(name):\r\n",
        "  print(name)\r\n",
        "f.visit(printname)\r\n",
        "\r\n",
        "f.close()"
      ],
      "execution_count": 1,
      "outputs": [
        {
          "output_type": "stream",
          "text": [
            "/mydataset\n",
            "/\n",
            "/subgroup/another_dataset\n",
            "/subgroup2/dataset_three\n",
            "subgroup\n",
            "subgroup2\n",
            "False\n",
            "False\n",
            "True\n",
            "subgroup\n",
            "subgroup/another_dataset\n",
            "subgroup2\n",
            "subgroup2/dataset_three\n"
          ],
          "name": "stdout"
        }
      ]
    },
    {
      "cell_type": "code",
      "metadata": {
        "colab": {
          "base_uri": "https://localhost:8080/"
        },
        "id": "4c-cw5Tr-I59",
        "outputId": "807395b8-d460-428c-a1a7-61b889789a9c"
      },
      "source": [
        "import h5py\r\n",
        "f = h5py.File('mytestfile.hdf5', 'r')\r\n",
        "print(list(f.keys()))\r\n",
        "dset = f['mydataset']\r\n",
        "print(dset.shape)\r\n",
        "print(dset.dtype)\r\n",
        "\r\n",
        "dset[...] = np.arange(100)\r\n",
        "print(dset[0])\r\n",
        "print(dset[10])\r\n",
        "print(dset[0:100:10])\r\n",
        "\r\n",
        "f.close()"
      ],
      "execution_count": 2,
      "outputs": [
        {
          "output_type": "stream",
          "text": [
            "['mydataset']\n",
            "(100,)\n",
            "int32\n",
            "0\n",
            "10\n",
            "[ 0 10 20 30 40 50 60 70 80 90]\n"
          ],
          "name": "stdout"
        }
      ]
    }
  ]
}